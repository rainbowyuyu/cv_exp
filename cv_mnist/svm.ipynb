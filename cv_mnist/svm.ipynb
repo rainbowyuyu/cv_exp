{
 "cells": [
  {
   "metadata": {
    "ExecuteTime": {
     "end_time": "2024-11-01T08:22:57.013736Z",
     "start_time": "2024-11-01T08:22:51.595159Z"
    }
   },
   "cell_type": "code",
   "source": [
    "from PIL import Image\n",
    "import os\n",
    "import sys\n",
    "import numpy as np\n",
    "import time\n",
    "from sklearn import svm\n",
    "import joblib\n",
    "import warnings\n",
    "warnings.filterwarnings('ignore')\n",
    "\n",
    "import gzip\n",
    "import struct"
   ],
   "id": "25e0c3fc2cfd1956",
   "outputs": [],
   "execution_count": 1
  },
  {
   "cell_type": "code",
   "id": "initial_id",
   "metadata": {
    "collapsed": true,
    "ExecuteTime": {
     "end_time": "2024-11-01T08:24:36.740008Z",
     "start_time": "2024-11-01T08:24:36.723455Z"
    }
   },
   "source": [
    "# 假设 gz 文件存储路径\n",
    "def get_data_from_gz(gz_file_path):\n",
    "    with gzip.open(gz_file_path, 'rb') as f:\n",
    "        data = np.frombuffer(f.read(), np.uint8)\n",
    "    return data\n",
    "\n",
    "# 从 .gz 文件中加载图像和标签\n",
    "def load_gz_data(image_gz_path, label_gz_path):\n",
    "    # 载入图像数据\n",
    "    images = get_data_from_gz(image_gz_path)\n",
    "    labels = get_data_from_gz(label_gz_path)\n",
    "    \n",
    "    # 假设图像大小为 16x16，转换为图像矩阵 (num_samples, 16, 16)\n",
    "    num_samples = len(labels)\n",
    "    images = images.reshape(num_samples, 16, 16)\n",
    "    return images, labels\n",
    "\n",
    "# 将 16x16 图像转换为 1x256 向量\n",
    "def img2vector(img):\n",
    "    img_normalized = np.round(img / 255)\n",
    "    img_vector = img_normalized.reshape(1, -1)\n",
    "    return img_vector\n",
    "\n",
    "# 准备数据，将图像展平成向量\n",
    "def prepare_data(images):\n",
    "    num_samples = images.shape[0]\n",
    "    dataMat = np.zeros((num_samples, 256))  # 存储每个图像的 1x256 向量\n",
    "    for i in range(num_samples):\n",
    "        img_vector = img2vector(images[i])\n",
    "        dataMat[i, :] = img_vector\n",
    "    return dataMat\n",
    "\n",
    "# 训练模型并保存\n",
    "def train_svm(dataMat, dataLabel, model_path, decision='ovr'):\n",
    "    clf = svm.SVC(decision_function_shape=decision)\n",
    "    clf.fit(dataMat, dataLabel)\n",
    "    joblib.dump(clf, model_path)\n",
    "    return clf\n",
    "\n",
    "# 预测测试集\n",
    "def evaluate_model(clf, test_dataMat, test_dataLabel):\n",
    "    start_time = time.time()\n",
    "    accuracy = clf.score(test_dataMat, test_dataLabel)\n",
    "    end_time = time.time()\n",
    "    print(f\"准确率: {accuracy:.6f}\")\n",
    "    print(f\"错误率: {1 - accuracy:.6f}\")\n",
    "    print(f\"预测时间: {end_time - start_time:.6f} 秒\")\n"
   ],
   "outputs": [],
   "execution_count": 5
  },
  {
   "metadata": {
    "ExecuteTime": {
     "end_time": "2024-11-01T08:24:37.333093Z",
     "start_time": "2024-11-01T08:24:37.119829Z"
    }
   },
   "cell_type": "code",
   "source": [
    "# 假设有训练集和测试集的 .gz 文件\n",
    "train_image_gz = r'E:\\ipynb\\project\\cv_exp_mnist\\train-images-idx3-ubyte.gz'\n",
    "train_label_gz = r'E:\\ipynb\\project\\cv_exp_mnist\\train-labels-idx1-ubyte.gz'\n",
    "test_image_gz = r'E:\\ipynb\\project\\cv_exp_mnist\\t10k-images-idx3-ubyte.gz'\n",
    "test_label_gz = r'E:\\ipynb\\project\\cv_exp_mnist\\t10k-labels-idx1-ubyte.gz'\n",
    "    \n",
    "# 加载训练数据\n",
    "train_images, train_labels = load_gz_data(train_image_gz, train_label_gz)\n",
    "train_dataMat = prepare_data(train_images)\n",
    "    \n",
    "# 加载测试数据\n",
    "test_images, test_labels = load_gz_data(test_image_gz, test_label_gz)\n",
    "test_dataMat = prepare_data(test_images)"
   ],
   "id": "702f196e74ecf4db",
   "outputs": [
    {
     "ename": "ValueError",
     "evalue": "cannot reshape array of size 47040016 into shape (60008,16,16)",
     "output_type": "error",
     "traceback": [
      "\u001B[1;31m---------------------------------------------------------------------------\u001B[0m",
      "\u001B[1;31mValueError\u001B[0m                                Traceback (most recent call last)",
      "Cell \u001B[1;32mIn[6], line 8\u001B[0m\n\u001B[0;32m      5\u001B[0m test_label_gz \u001B[38;5;241m=\u001B[39m \u001B[38;5;124mr\u001B[39m\u001B[38;5;124m'\u001B[39m\u001B[38;5;124mE:\u001B[39m\u001B[38;5;124m\\\u001B[39m\u001B[38;5;124mipynb\u001B[39m\u001B[38;5;124m\\\u001B[39m\u001B[38;5;124mproject\u001B[39m\u001B[38;5;124m\\\u001B[39m\u001B[38;5;124mcv_exp_mnist\u001B[39m\u001B[38;5;124m\\\u001B[39m\u001B[38;5;124mt10k-labels-idx1-ubyte.gz\u001B[39m\u001B[38;5;124m'\u001B[39m\n\u001B[0;32m      7\u001B[0m \u001B[38;5;66;03m# 加载训练数据\u001B[39;00m\n\u001B[1;32m----> 8\u001B[0m train_images, train_labels \u001B[38;5;241m=\u001B[39m \u001B[43mload_gz_data\u001B[49m\u001B[43m(\u001B[49m\u001B[43mtrain_image_gz\u001B[49m\u001B[43m,\u001B[49m\u001B[43m \u001B[49m\u001B[43mtrain_label_gz\u001B[49m\u001B[43m)\u001B[49m\n\u001B[0;32m      9\u001B[0m train_dataMat \u001B[38;5;241m=\u001B[39m prepare_data(train_images)\n\u001B[0;32m     11\u001B[0m \u001B[38;5;66;03m# 加载测试数据\u001B[39;00m\n",
      "Cell \u001B[1;32mIn[5], line 15\u001B[0m, in \u001B[0;36mload_gz_data\u001B[1;34m(image_gz_path, label_gz_path)\u001B[0m\n\u001B[0;32m     13\u001B[0m \u001B[38;5;66;03m# 假设图像大小为 16x16，转换为图像矩阵 (num_samples, 16, 16)\u001B[39;00m\n\u001B[0;32m     14\u001B[0m num_samples \u001B[38;5;241m=\u001B[39m \u001B[38;5;28mlen\u001B[39m(labels)\n\u001B[1;32m---> 15\u001B[0m images \u001B[38;5;241m=\u001B[39m \u001B[43mimages\u001B[49m\u001B[38;5;241;43m.\u001B[39;49m\u001B[43mreshape\u001B[49m\u001B[43m(\u001B[49m\u001B[43mnum_samples\u001B[49m\u001B[43m,\u001B[49m\u001B[43m \u001B[49m\u001B[38;5;241;43m16\u001B[39;49m\u001B[43m,\u001B[49m\u001B[43m \u001B[49m\u001B[38;5;241;43m16\u001B[39;49m\u001B[43m)\u001B[49m\n\u001B[0;32m     16\u001B[0m \u001B[38;5;28;01mreturn\u001B[39;00m images, labels\n",
      "\u001B[1;31mValueError\u001B[0m: cannot reshape array of size 47040016 into shape (60008,16,16)"
     ]
    }
   ],
   "execution_count": 6
  },
  {
   "metadata": {
    "ExecuteTime": {
     "end_time": "2024-11-01T08:23:45.135019Z",
     "start_time": "2024-11-01T08:23:45.106258Z"
    }
   },
   "cell_type": "code",
   "source": [
    "# 训练并保存模型\n",
    "model_path = 'svm.model'\n",
    "clf = train_svm(train_dataMat, train_labels, model_path)"
   ],
   "id": "da2804f6182f9ede",
   "outputs": [
    {
     "ename": "NameError",
     "evalue": "name 'train_dataMat' is not defined",
     "output_type": "error",
     "traceback": [
      "\u001B[1;31m---------------------------------------------------------------------------\u001B[0m",
      "\u001B[1;31mNameError\u001B[0m                                 Traceback (most recent call last)",
      "Cell \u001B[1;32mIn[4], line 3\u001B[0m\n\u001B[0;32m      1\u001B[0m \u001B[38;5;66;03m# 训练并保存模型\u001B[39;00m\n\u001B[0;32m      2\u001B[0m model_path \u001B[38;5;241m=\u001B[39m \u001B[38;5;124m'\u001B[39m\u001B[38;5;124msvm.model\u001B[39m\u001B[38;5;124m'\u001B[39m\n\u001B[1;32m----> 3\u001B[0m clf \u001B[38;5;241m=\u001B[39m train_svm(\u001B[43mtrain_dataMat\u001B[49m, train_labels, model_path)\n",
      "\u001B[1;31mNameError\u001B[0m: name 'train_dataMat' is not defined"
     ]
    }
   ],
   "execution_count": 4
  },
  {
   "metadata": {},
   "cell_type": "code",
   "outputs": [],
   "execution_count": null,
   "source": [
    "# 加载模型并评估\n",
    "clf = joblib.load(model_path)\n",
    "evaluate_model(clf, test_dataMat, test_labels)"
   ],
   "id": "ab7ac94f1c840933"
  }
 ],
 "metadata": {
  "kernelspec": {
   "display_name": "Python 3",
   "language": "python",
   "name": "python3"
  },
  "language_info": {
   "codemirror_mode": {
    "name": "ipython",
    "version": 2
   },
   "file_extension": ".py",
   "mimetype": "text/x-python",
   "name": "python",
   "nbconvert_exporter": "python",
   "pygments_lexer": "ipython2",
   "version": "2.7.6"
  }
 },
 "nbformat": 4,
 "nbformat_minor": 5
}
